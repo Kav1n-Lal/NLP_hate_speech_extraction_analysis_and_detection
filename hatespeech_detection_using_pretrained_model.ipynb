{
 "cells": [
  {
   "cell_type": "code",
   "execution_count": 1,
   "id": "21796680",
   "metadata": {},
   "outputs": [],
   "source": [
    "import numpy as np\n",
    "import pandas as pd\n",
    "import matplotlib.pyplot as plt\n"
   ]
  },
  {
   "cell_type": "code",
   "execution_count": 2,
   "id": "0084d333",
   "metadata": {},
   "outputs": [
    {
     "data": {
      "text/html": [
       "<div>\n",
       "<style scoped>\n",
       "    .dataframe tbody tr th:only-of-type {\n",
       "        vertical-align: middle;\n",
       "    }\n",
       "\n",
       "    .dataframe tbody tr th {\n",
       "        vertical-align: top;\n",
       "    }\n",
       "\n",
       "    .dataframe thead th {\n",
       "        text-align: right;\n",
       "    }\n",
       "</style>\n",
       "<table border=\"1\" class=\"dataframe\">\n",
       "  <thead>\n",
       "    <tr style=\"text-align: right;\">\n",
       "      <th></th>\n",
       "      <th>Unnamed: 0</th>\n",
       "      <th>file_id</th>\n",
       "      <th>user_id</th>\n",
       "      <th>subforum_id</th>\n",
       "      <th>num_contexts</th>\n",
       "      <th>label</th>\n",
       "      <th>text</th>\n",
       "      <th>text_con_rem</th>\n",
       "      <th>corrected_text</th>\n",
       "      <th>lemma_text</th>\n",
       "    </tr>\n",
       "  </thead>\n",
       "  <tbody>\n",
       "    <tr>\n",
       "      <th>0</th>\n",
       "      <td>0</td>\n",
       "      <td>12834217_1</td>\n",
       "      <td>572066</td>\n",
       "      <td>1346</td>\n",
       "      <td>0</td>\n",
       "      <td>noHate</td>\n",
       "      <td>As of March 13th , 2014 , the booklet had been...</td>\n",
       "      <td>as of march 13th , 2014 , the booklet had been...</td>\n",
       "      <td>as of march 13th  2014  the booklet had been d...</td>\n",
       "      <td>as of march 13th   2014   the booklet have be ...</td>\n",
       "    </tr>\n",
       "    <tr>\n",
       "      <th>1</th>\n",
       "      <td>1</td>\n",
       "      <td>12834217_2</td>\n",
       "      <td>572066</td>\n",
       "      <td>1346</td>\n",
       "      <td>0</td>\n",
       "      <td>noHate</td>\n",
       "      <td>In order to help increase the booklets downloa...</td>\n",
       "      <td>in order to help increase the booklets downloa...</td>\n",
       "      <td>in order to help increase the booklets downloa...</td>\n",
       "      <td>in order to help increase the booklet download...</td>\n",
       "    </tr>\n",
       "    <tr>\n",
       "      <th>2</th>\n",
       "      <td>2</td>\n",
       "      <td>12834217_3</td>\n",
       "      <td>572066</td>\n",
       "      <td>1346</td>\n",
       "      <td>0</td>\n",
       "      <td>noHate</td>\n",
       "      <td>( Simply copy and paste the following text int...</td>\n",
       "      <td>( simply copy and paste the following text int...</td>\n",
       "      <td>simply copy and paste the following text into ...</td>\n",
       "      <td>simply copy and paste the follow text into you...</td>\n",
       "    </tr>\n",
       "    <tr>\n",
       "      <th>3</th>\n",
       "      <td>3</td>\n",
       "      <td>12834217_4</td>\n",
       "      <td>572066</td>\n",
       "      <td>1346</td>\n",
       "      <td>0</td>\n",
       "      <td>hate</td>\n",
       "      <td>Click below for a FREE download of a colorfull...</td>\n",
       "      <td>click below for a free download of a colorfull...</td>\n",
       "      <td>click below for a free download of a colorfull...</td>\n",
       "      <td>click below for a free download of a colorfull...</td>\n",
       "    </tr>\n",
       "    <tr>\n",
       "      <th>4</th>\n",
       "      <td>4</td>\n",
       "      <td>12834217_5</td>\n",
       "      <td>572066</td>\n",
       "      <td>1346</td>\n",
       "      <td>0</td>\n",
       "      <td>noHate</td>\n",
       "      <td>Click on the `` DOWNLOAD ( 7.42 MB ) '' green ...</td>\n",
       "      <td>click on the `` download ( 7.42 mb ) '' green ...</td>\n",
       "      <td>click on the  download  742 mb   green banner ...</td>\n",
       "      <td>click on the   download   742 mb    green bann...</td>\n",
       "    </tr>\n",
       "  </tbody>\n",
       "</table>\n",
       "</div>"
      ],
      "text/plain": [
       "   Unnamed: 0     file_id  user_id  subforum_id  num_contexts   label  \\\n",
       "0           0  12834217_1   572066         1346             0  noHate   \n",
       "1           1  12834217_2   572066         1346             0  noHate   \n",
       "2           2  12834217_3   572066         1346             0  noHate   \n",
       "3           3  12834217_4   572066         1346             0    hate   \n",
       "4           4  12834217_5   572066         1346             0  noHate   \n",
       "\n",
       "                                                text  \\\n",
       "0  As of March 13th , 2014 , the booklet had been...   \n",
       "1  In order to help increase the booklets downloa...   \n",
       "2  ( Simply copy and paste the following text int...   \n",
       "3  Click below for a FREE download of a colorfull...   \n",
       "4  Click on the `` DOWNLOAD ( 7.42 MB ) '' green ...   \n",
       "\n",
       "                                        text_con_rem  \\\n",
       "0  as of march 13th , 2014 , the booklet had been...   \n",
       "1  in order to help increase the booklets downloa...   \n",
       "2  ( simply copy and paste the following text int...   \n",
       "3  click below for a free download of a colorfull...   \n",
       "4  click on the `` download ( 7.42 mb ) '' green ...   \n",
       "\n",
       "                                      corrected_text  \\\n",
       "0  as of march 13th  2014  the booklet had been d...   \n",
       "1  in order to help increase the booklets downloa...   \n",
       "2  simply copy and paste the following text into ...   \n",
       "3  click below for a free download of a colorfull...   \n",
       "4  click on the  download  742 mb   green banner ...   \n",
       "\n",
       "                                          lemma_text  \n",
       "0  as of march 13th   2014   the booklet have be ...  \n",
       "1  in order to help increase the booklet download...  \n",
       "2  simply copy and paste the follow text into you...  \n",
       "3  click below for a free download of a colorfull...  \n",
       "4  click on the   download   742 mb    green bann...  "
      ]
     },
     "execution_count": 2,
     "metadata": {},
     "output_type": "execute_result"
    }
   ],
   "source": [
    "df=pd.read_csv('cleaned_text.csv')\n",
    "df.head()"
   ]
  },
  {
   "cell_type": "code",
   "execution_count": 3,
   "id": "7444e36c",
   "metadata": {},
   "outputs": [
    {
     "data": {
      "text/html": [
       "<div>\n",
       "<style scoped>\n",
       "    .dataframe tbody tr th:only-of-type {\n",
       "        vertical-align: middle;\n",
       "    }\n",
       "\n",
       "    .dataframe tbody tr th {\n",
       "        vertical-align: top;\n",
       "    }\n",
       "\n",
       "    .dataframe thead th {\n",
       "        text-align: right;\n",
       "    }\n",
       "</style>\n",
       "<table border=\"1\" class=\"dataframe\">\n",
       "  <thead>\n",
       "    <tr style=\"text-align: right;\">\n",
       "      <th></th>\n",
       "      <th>dtypes</th>\n",
       "      <th>null_count</th>\n",
       "      <th>unique_values</th>\n",
       "      <th>percent_of_null_values</th>\n",
       "    </tr>\n",
       "  </thead>\n",
       "  <tbody>\n",
       "    <tr>\n",
       "      <th>Unnamed: 0</th>\n",
       "      <td>int64</td>\n",
       "      <td>0</td>\n",
       "      <td>10703</td>\n",
       "      <td>0.000000</td>\n",
       "    </tr>\n",
       "    <tr>\n",
       "      <th>file_id</th>\n",
       "      <td>object</td>\n",
       "      <td>0</td>\n",
       "      <td>10703</td>\n",
       "      <td>0.000000</td>\n",
       "    </tr>\n",
       "    <tr>\n",
       "      <th>user_id</th>\n",
       "      <td>int64</td>\n",
       "      <td>0</td>\n",
       "      <td>2778</td>\n",
       "      <td>0.000000</td>\n",
       "    </tr>\n",
       "    <tr>\n",
       "      <th>subforum_id</th>\n",
       "      <td>int64</td>\n",
       "      <td>0</td>\n",
       "      <td>21</td>\n",
       "      <td>0.000000</td>\n",
       "    </tr>\n",
       "    <tr>\n",
       "      <th>num_contexts</th>\n",
       "      <td>int64</td>\n",
       "      <td>0</td>\n",
       "      <td>20</td>\n",
       "      <td>0.000000</td>\n",
       "    </tr>\n",
       "    <tr>\n",
       "      <th>label</th>\n",
       "      <td>object</td>\n",
       "      <td>0</td>\n",
       "      <td>2</td>\n",
       "      <td>0.000000</td>\n",
       "    </tr>\n",
       "    <tr>\n",
       "      <th>text</th>\n",
       "      <td>object</td>\n",
       "      <td>0</td>\n",
       "      <td>10493</td>\n",
       "      <td>0.000000</td>\n",
       "    </tr>\n",
       "    <tr>\n",
       "      <th>text_con_rem</th>\n",
       "      <td>object</td>\n",
       "      <td>42</td>\n",
       "      <td>10479</td>\n",
       "      <td>0.003924</td>\n",
       "    </tr>\n",
       "    <tr>\n",
       "      <th>corrected_text</th>\n",
       "      <td>object</td>\n",
       "      <td>48</td>\n",
       "      <td>10421</td>\n",
       "      <td>0.004485</td>\n",
       "    </tr>\n",
       "    <tr>\n",
       "      <th>lemma_text</th>\n",
       "      <td>object</td>\n",
       "      <td>48</td>\n",
       "      <td>10420</td>\n",
       "      <td>0.004485</td>\n",
       "    </tr>\n",
       "  </tbody>\n",
       "</table>\n",
       "</div>"
      ],
      "text/plain": [
       "                dtypes  null_count  unique_values  percent_of_null_values\n",
       "Unnamed: 0       int64           0          10703                0.000000\n",
       "file_id         object           0          10703                0.000000\n",
       "user_id          int64           0           2778                0.000000\n",
       "subforum_id      int64           0             21                0.000000\n",
       "num_contexts     int64           0             20                0.000000\n",
       "label           object           0              2                0.000000\n",
       "text            object           0          10493                0.000000\n",
       "text_con_rem    object          42          10479                0.003924\n",
       "corrected_text  object          48          10421                0.004485\n",
       "lemma_text      object          48          10420                0.004485"
      ]
     },
     "execution_count": 3,
     "metadata": {},
     "output_type": "execute_result"
    }
   ],
   "source": [
    "pd.DataFrame({'dtypes':df.dtypes,'null_count':df.isnull().sum(),\n",
    "              'unique_values':df.nunique(),\n",
    "             'percent_of_null_values':df.isnull().mean()})"
   ]
  },
  {
   "cell_type": "code",
   "execution_count": 4,
   "id": "02492f37",
   "metadata": {},
   "outputs": [],
   "source": [
    "df.dropna(inplace=True)"
   ]
  },
  {
   "cell_type": "code",
   "execution_count": 5,
   "id": "83788ea5",
   "metadata": {},
   "outputs": [
    {
     "data": {
      "text/plain": [
       "(10655, 10)"
      ]
     },
     "execution_count": 5,
     "metadata": {},
     "output_type": "execute_result"
    }
   ],
   "source": [
    "df.shape"
   ]
  },
  {
   "cell_type": "markdown",
   "id": "4c1b27cc",
   "metadata": {},
   "source": [
    "### Using a model from hugging face to get the predictions for 'corrected text' "
   ]
  },
  {
   "cell_type": "markdown",
   "id": "6ada81f9",
   "metadata": {},
   "source": [
    "##### Model_name:\"irlab-udc/MetaHateBERT\""
   ]
  },
  {
   "cell_type": "code",
   "execution_count": 6,
   "id": "1aa49ece",
   "metadata": {
    "scrolled": true
   },
   "outputs": [
    {
     "name": "stderr",
     "output_type": "stream",
     "text": [
      "C:\\Users\\DELL\\anaconda3\\envs\\rent_price_ml\\lib\\site-packages\\tqdm\\auto.py:21: TqdmWarning: IProgress not found. Please update jupyter and ipywidgets. See https://ipywidgets.readthedocs.io/en/stable/user_install.html\n",
      "  from .autonotebook import tqdm as notebook_tqdm\n",
      "C:\\Users\\DELL\\anaconda3\\envs\\rent_price_ml\\lib\\site-packages\\huggingface_hub\\file_download.py:1132: FutureWarning: `resume_download` is deprecated and will be removed in version 1.0.0. Downloads always resume when possible. If you want to force a new download, use `force_download=True`.\n",
      "  warnings.warn(\n"
     ]
    }
   ],
   "source": [
    "# Use a pipeline as a high-level helper\n",
    "from transformers import pipeline\n",
    "\n",
    "pipe_1 = pipeline(\"text-classification\", model=\"irlab-udc/MetaHateBERT\")"
   ]
  },
  {
   "cell_type": "code",
   "execution_count": 7,
   "id": "f041f58a",
   "metadata": {},
   "outputs": [],
   "source": [
    "predicted_label_normal=[]\n",
    "predicted_score_normal=[]\n",
    "\n",
    "def predictions_model_normal():\n",
    "\n",
    "    for sent in df['corrected_text']:\n",
    "        \n",
    "            #Passing the 'lemma_string' into the model and making predictions\n",
    "            label_and_score=pipe_1(sent)\n",
    "\n",
    "            predicted_label_normal.append(label_and_score[0]['label'])\n",
    "            predicted_score_normal.append(label_and_score[0]['score'])\n",
    "\n",
    "            if len(predicted_label_normal)%1000==0:\n",
    "                print(f'Predictions made for {len(predicted_label_normal)} items')"
   ]
  },
  {
   "cell_type": "code",
   "execution_count": 8,
   "id": "219bd0f9",
   "metadata": {},
   "outputs": [
    {
     "name": "stdout",
     "output_type": "stream",
     "text": [
      "Predictions made for 1000 items\n",
      "Predictions made for 2000 items\n",
      "Predictions made for 3000 items\n",
      "Predictions made for 4000 items\n",
      "Predictions made for 5000 items\n",
      "Predictions made for 6000 items\n",
      "Predictions made for 7000 items\n",
      "Predictions made for 8000 items\n",
      "Predictions made for 9000 items\n",
      "Predictions made for 10000 items\n"
     ]
    },
    {
     "data": {
      "text/html": [
       "<div>\n",
       "<style scoped>\n",
       "    .dataframe tbody tr th:only-of-type {\n",
       "        vertical-align: middle;\n",
       "    }\n",
       "\n",
       "    .dataframe tbody tr th {\n",
       "        vertical-align: top;\n",
       "    }\n",
       "\n",
       "    .dataframe thead th {\n",
       "        text-align: right;\n",
       "    }\n",
       "</style>\n",
       "<table border=\"1\" class=\"dataframe\">\n",
       "  <thead>\n",
       "    <tr style=\"text-align: right;\">\n",
       "      <th></th>\n",
       "      <th>text</th>\n",
       "      <th>corrected_text</th>\n",
       "      <th>label</th>\n",
       "      <th>predicted_label_normal</th>\n",
       "      <th>predicted_score_normal</th>\n",
       "    </tr>\n",
       "  </thead>\n",
       "  <tbody>\n",
       "    <tr>\n",
       "      <th>0</th>\n",
       "      <td>As of March 13th , 2014 , the booklet had been...</td>\n",
       "      <td>as of march 13th  2014  the booklet had been d...</td>\n",
       "      <td>noHate</td>\n",
       "      <td>no hate</td>\n",
       "      <td>0.995001</td>\n",
       "    </tr>\n",
       "    <tr>\n",
       "      <th>1</th>\n",
       "      <td>In order to help increase the booklets downloa...</td>\n",
       "      <td>in order to help increase the booklets downloa...</td>\n",
       "      <td>noHate</td>\n",
       "      <td>no hate</td>\n",
       "      <td>0.994424</td>\n",
       "    </tr>\n",
       "    <tr>\n",
       "      <th>2</th>\n",
       "      <td>( Simply copy and paste the following text int...</td>\n",
       "      <td>simply copy and paste the following text into ...</td>\n",
       "      <td>noHate</td>\n",
       "      <td>no hate</td>\n",
       "      <td>0.994773</td>\n",
       "    </tr>\n",
       "    <tr>\n",
       "      <th>3</th>\n",
       "      <td>Click below for a FREE download of a colorfull...</td>\n",
       "      <td>click below for a free download of a colorfull...</td>\n",
       "      <td>hate</td>\n",
       "      <td>hate</td>\n",
       "      <td>0.732618</td>\n",
       "    </tr>\n",
       "    <tr>\n",
       "      <th>4</th>\n",
       "      <td>Click on the `` DOWNLOAD ( 7.42 MB ) '' green ...</td>\n",
       "      <td>click on the  download  742 mb   green banner ...</td>\n",
       "      <td>noHate</td>\n",
       "      <td>no hate</td>\n",
       "      <td>0.992988</td>\n",
       "    </tr>\n",
       "  </tbody>\n",
       "</table>\n",
       "</div>"
      ],
      "text/plain": [
       "                                                text  \\\n",
       "0  As of March 13th , 2014 , the booklet had been...   \n",
       "1  In order to help increase the booklets downloa...   \n",
       "2  ( Simply copy and paste the following text int...   \n",
       "3  Click below for a FREE download of a colorfull...   \n",
       "4  Click on the `` DOWNLOAD ( 7.42 MB ) '' green ...   \n",
       "\n",
       "                                      corrected_text   label  \\\n",
       "0  as of march 13th  2014  the booklet had been d...  noHate   \n",
       "1  in order to help increase the booklets downloa...  noHate   \n",
       "2  simply copy and paste the following text into ...  noHate   \n",
       "3  click below for a free download of a colorfull...    hate   \n",
       "4  click on the  download  742 mb   green banner ...  noHate   \n",
       "\n",
       "  predicted_label_normal  predicted_score_normal  \n",
       "0                no hate                0.995001  \n",
       "1                no hate                0.994424  \n",
       "2                no hate                0.994773  \n",
       "3                   hate                0.732618  \n",
       "4                no hate                0.992988  "
      ]
     },
     "execution_count": 8,
     "metadata": {},
     "output_type": "execute_result"
    }
   ],
   "source": [
    "predictions_model_normal()\n",
    "\n",
    "df['predicted_label_normal']=predicted_label_normal\n",
    "df['predicted_score_normal']=predicted_score_normal\n",
    "df[['text','corrected_text','label','predicted_label_normal','predicted_score_normal']].head()"
   ]
  },
  {
   "cell_type": "code",
   "execution_count": 9,
   "id": "9122e47b",
   "metadata": {},
   "outputs": [],
   "source": [
    "import numpy as np\n",
    "from sklearn import metrics\n",
    "from sklearn.metrics import accuracy_score, precision_score, recall_score, f1_score\n",
    "from sklearn.metrics import classification_report\n",
    "import matplotlib.pyplot as plt\n",
    "import seaborn as sns\n",
    "\n",
    "def calculate_metrics(predictions_labels):\n",
    "    \n",
    "    # define confusion matrix\n",
    "    confusion_matrix = metrics.confusion_matrix(ground_truth, predictions_labels)\n",
    "    print(confusion_matrix)\n",
    "    print('...........................................................................\\n')\n",
    "    # define and print matrix with labels\n",
    "    sns.heatmap(confusion_matrix,\n",
    "                annot=True,\n",
    "                fmt='g',\n",
    "                xticklabels=['Not Hate','Hate'],\n",
    "                yticklabels=['Not Hate','Hate'])\n",
    "\n",
    "    # display matrix\n",
    "    plt.ylabel('Actual',fontsize=12)\n",
    "    plt.xlabel('Prediction',fontsize=12)\n",
    "    plt.show()\n",
    "    print('...........................................................................\\n')\n",
    "    # create and print classification report\n",
    "    report = classification_report(ground_truth, predictions_labels)\n",
    "    print(report)"
   ]
  },
  {
   "cell_type": "code",
   "execution_count": 10,
   "id": "1cbc129f",
   "metadata": {},
   "outputs": [],
   "source": [
    "#True labels\n",
    "ground_truth=list(df['label'].map({'noHate':0,'hate':1}))\n",
    "\n",
    "#normal text predictions\n",
    "predictions_normal=list(df['predicted_label_normal'].map({'no hate':0,'hate':1}))"
   ]
  },
  {
   "cell_type": "code",
   "execution_count": 11,
   "id": "ff2feeb0",
   "metadata": {},
   "outputs": [
    {
     "name": "stdout",
     "output_type": "stream",
     "text": [
      "[[8386 1073]\n",
      " [  90 1106]]\n",
      "...........................................................................\n",
      "\n"
     ]
    },
    {
     "data": {
      "image/png": "[encoded data removed]",
      "text/plain": [
       "<Figure size 640x480 with 2 Axes>"
      ]
     },
     "metadata": {},
     "output_type": "display_data"
    },
    {
     "name": "stdout",
     "output_type": "stream",
     "text": [
      "...........................................................................\n",
      "\n",
      "              precision    recall  f1-score   support\n",
      "\n",
      "           0       0.99      0.89      0.94      9459\n",
      "           1       0.51      0.92      0.66      1196\n",
      "\n",
      "    accuracy                           0.89     10655\n",
      "   macro avg       0.75      0.91      0.80     10655\n",
      "weighted avg       0.94      0.89      0.90     10655\n",
      "\n"
     ]
    }
   ],
   "source": [
    "calculate_metrics(predictions_normal)"
   ]
  },
  {
   "cell_type": "markdown",
   "id": "ac00a2e0",
   "metadata": {},
   "source": []
  }
 ],
 "metadata": {
  "kernelspec": {
   "display_name": "rent_price_ml",
   "language": "python",
   "name": "rent_price_ml"
  },
  "language_info": {
   "codemirror_mode": {
    "name": "ipython",
    "version": 3
   },
   "file_extension": ".py",
   "mimetype": "text/x-python",
   "name": "python",
   "nbconvert_exporter": "python",
   "pygments_lexer": "ipython3",
   "version": "3.9.18"
  }
 },
 "nbformat": 4,
 "nbformat_minor": 5
}
