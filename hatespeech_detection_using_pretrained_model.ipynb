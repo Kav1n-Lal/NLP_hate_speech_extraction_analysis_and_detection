{
 "cells": [
  {
   "cell_type": "code",
   "execution_count": 1,
   "id": "21796680",
   "metadata": {},
   "outputs": [],
   "source": [
    "import numpy as np\n",
    "import pandas as pd\n",
    "import matplotlib.pyplot as plt\n"
   ]
  },
  {
   "cell_type": "code",
   "execution_count": 2,
   "id": "0084d333",
   "metadata": {},
   "outputs": [
    {
     "data": {
      "text/html": [
       "<div>\n",
       "<style scoped>\n",
       "    .dataframe tbody tr th:only-of-type {\n",
       "        vertical-align: middle;\n",
       "    }\n",
       "\n",
       "    .dataframe tbody tr th {\n",
       "        vertical-align: top;\n",
       "    }\n",
       "\n",
       "    .dataframe thead th {\n",
       "        text-align: right;\n",
       "    }\n",
       "</style>\n",
       "<table border=\"1\" class=\"dataframe\">\n",
       "  <thead>\n",
       "    <tr style=\"text-align: right;\">\n",
       "      <th></th>\n",
       "      <th>Unnamed: 0</th>\n",
       "      <th>file_id</th>\n",
       "      <th>user_id</th>\n",
       "      <th>subforum_id</th>\n",
       "      <th>num_contexts</th>\n",
       "      <th>label</th>\n",
       "      <th>text</th>\n",
       "      <th>corrected_text</th>\n",
       "      <th>lemma_text</th>\n",
       "    </tr>\n",
       "  </thead>\n",
       "  <tbody>\n",
       "    <tr>\n",
       "      <th>0</th>\n",
       "      <td>0</td>\n",
       "      <td>12834217_1</td>\n",
       "      <td>572066</td>\n",
       "      <td>1346</td>\n",
       "      <td>0</td>\n",
       "      <td>noHate</td>\n",
       "      <td>As of March 13th , 2014 , the booklet had been...</td>\n",
       "      <td>as of march 13th  2014  the booklet had been d...</td>\n",
       "      <td>as of march 13th   2014   the booklet have be ...</td>\n",
       "    </tr>\n",
       "    <tr>\n",
       "      <th>1</th>\n",
       "      <td>1</td>\n",
       "      <td>12834217_2</td>\n",
       "      <td>572066</td>\n",
       "      <td>1346</td>\n",
       "      <td>0</td>\n",
       "      <td>noHate</td>\n",
       "      <td>In order to help increase the booklets downloa...</td>\n",
       "      <td>in order to help increase the booklets downloa...</td>\n",
       "      <td>in order to help increase the booklet download...</td>\n",
       "    </tr>\n",
       "    <tr>\n",
       "      <th>2</th>\n",
       "      <td>2</td>\n",
       "      <td>12834217_3</td>\n",
       "      <td>572066</td>\n",
       "      <td>1346</td>\n",
       "      <td>0</td>\n",
       "      <td>noHate</td>\n",
       "      <td>( Simply copy and paste the following text int...</td>\n",
       "      <td>simply copy and paste the following text into ...</td>\n",
       "      <td>simply copy and paste the follow text into you...</td>\n",
       "    </tr>\n",
       "    <tr>\n",
       "      <th>3</th>\n",
       "      <td>3</td>\n",
       "      <td>12834217_4</td>\n",
       "      <td>572066</td>\n",
       "      <td>1346</td>\n",
       "      <td>0</td>\n",
       "      <td>hate</td>\n",
       "      <td>Click below for a FREE download of a colorfull...</td>\n",
       "      <td>click below for a free download of a colorfull...</td>\n",
       "      <td>click below for a free download of a colorfull...</td>\n",
       "    </tr>\n",
       "    <tr>\n",
       "      <th>4</th>\n",
       "      <td>4</td>\n",
       "      <td>12834217_5</td>\n",
       "      <td>572066</td>\n",
       "      <td>1346</td>\n",
       "      <td>0</td>\n",
       "      <td>noHate</td>\n",
       "      <td>Click on the `` DOWNLOAD ( 7.42 MB ) '' green ...</td>\n",
       "      <td>click on the  download  742 mb   green banner ...</td>\n",
       "      <td>click on the   download   742 mb    green bann...</td>\n",
       "    </tr>\n",
       "  </tbody>\n",
       "</table>\n",
       "</div>"
      ],
      "text/plain": [
       "   Unnamed: 0     file_id  user_id  subforum_id  num_contexts   label  \\\n",
       "0           0  12834217_1   572066         1346             0  noHate   \n",
       "1           1  12834217_2   572066         1346             0  noHate   \n",
       "2           2  12834217_3   572066         1346             0  noHate   \n",
       "3           3  12834217_4   572066         1346             0    hate   \n",
       "4           4  12834217_5   572066         1346             0  noHate   \n",
       "\n",
       "                                                text  \\\n",
       "0  As of March 13th , 2014 , the booklet had been...   \n",
       "1  In order to help increase the booklets downloa...   \n",
       "2  ( Simply copy and paste the following text int...   \n",
       "3  Click below for a FREE download of a colorfull...   \n",
       "4  Click on the `` DOWNLOAD ( 7.42 MB ) '' green ...   \n",
       "\n",
       "                                      corrected_text  \\\n",
       "0  as of march 13th  2014  the booklet had been d...   \n",
       "1  in order to help increase the booklets downloa...   \n",
       "2  simply copy and paste the following text into ...   \n",
       "3  click below for a free download of a colorfull...   \n",
       "4  click on the  download  742 mb   green banner ...   \n",
       "\n",
       "                                          lemma_text  \n",
       "0  as of march 13th   2014   the booklet have be ...  \n",
       "1  in order to help increase the booklet download...  \n",
       "2  simply copy and paste the follow text into you...  \n",
       "3  click below for a free download of a colorfull...  \n",
       "4  click on the   download   742 mb    green bann...  "
      ]
     },
     "execution_count": 2,
     "metadata": {},
     "output_type": "execute_result"
    }
   ],
   "source": [
    "df=pd.read_csv('lemmatized_text.csv')\n",
    "df.head()"
   ]
  },
  {
   "cell_type": "code",
   "execution_count": 3,
   "id": "7444e36c",
   "metadata": {},
   "outputs": [
    {
     "data": {
      "text/html": [
       "<div>\n",
       "<style scoped>\n",
       "    .dataframe tbody tr th:only-of-type {\n",
       "        vertical-align: middle;\n",
       "    }\n",
       "\n",
       "    .dataframe tbody tr th {\n",
       "        vertical-align: top;\n",
       "    }\n",
       "\n",
       "    .dataframe thead th {\n",
       "        text-align: right;\n",
       "    }\n",
       "</style>\n",
       "<table border=\"1\" class=\"dataframe\">\n",
       "  <thead>\n",
       "    <tr style=\"text-align: right;\">\n",
       "      <th></th>\n",
       "      <th>dtypes</th>\n",
       "      <th>null_count</th>\n",
       "      <th>unique_values</th>\n",
       "      <th>percent_of_null_values</th>\n",
       "    </tr>\n",
       "  </thead>\n",
       "  <tbody>\n",
       "    <tr>\n",
       "      <th>Unnamed: 0</th>\n",
       "      <td>int64</td>\n",
       "      <td>0</td>\n",
       "      <td>10703</td>\n",
       "      <td>0.000000</td>\n",
       "    </tr>\n",
       "    <tr>\n",
       "      <th>file_id</th>\n",
       "      <td>object</td>\n",
       "      <td>0</td>\n",
       "      <td>10703</td>\n",
       "      <td>0.000000</td>\n",
       "    </tr>\n",
       "    <tr>\n",
       "      <th>user_id</th>\n",
       "      <td>int64</td>\n",
       "      <td>0</td>\n",
       "      <td>2778</td>\n",
       "      <td>0.000000</td>\n",
       "    </tr>\n",
       "    <tr>\n",
       "      <th>subforum_id</th>\n",
       "      <td>int64</td>\n",
       "      <td>0</td>\n",
       "      <td>21</td>\n",
       "      <td>0.000000</td>\n",
       "    </tr>\n",
       "    <tr>\n",
       "      <th>num_contexts</th>\n",
       "      <td>int64</td>\n",
       "      <td>0</td>\n",
       "      <td>20</td>\n",
       "      <td>0.000000</td>\n",
       "    </tr>\n",
       "    <tr>\n",
       "      <th>label</th>\n",
       "      <td>object</td>\n",
       "      <td>0</td>\n",
       "      <td>2</td>\n",
       "      <td>0.000000</td>\n",
       "    </tr>\n",
       "    <tr>\n",
       "      <th>text</th>\n",
       "      <td>object</td>\n",
       "      <td>0</td>\n",
       "      <td>10493</td>\n",
       "      <td>0.000000</td>\n",
       "    </tr>\n",
       "    <tr>\n",
       "      <th>corrected_text</th>\n",
       "      <td>object</td>\n",
       "      <td>46</td>\n",
       "      <td>10423</td>\n",
       "      <td>0.004298</td>\n",
       "    </tr>\n",
       "    <tr>\n",
       "      <th>lemma_text</th>\n",
       "      <td>object</td>\n",
       "      <td>46</td>\n",
       "      <td>10422</td>\n",
       "      <td>0.004298</td>\n",
       "    </tr>\n",
       "  </tbody>\n",
       "</table>\n",
       "</div>"
      ],
      "text/plain": [
       "                dtypes  null_count  unique_values  percent_of_null_values\n",
       "Unnamed: 0       int64           0          10703                0.000000\n",
       "file_id         object           0          10703                0.000000\n",
       "user_id          int64           0           2778                0.000000\n",
       "subforum_id      int64           0             21                0.000000\n",
       "num_contexts     int64           0             20                0.000000\n",
       "label           object           0              2                0.000000\n",
       "text            object           0          10493                0.000000\n",
       "corrected_text  object          46          10423                0.004298\n",
       "lemma_text      object          46          10422                0.004298"
      ]
     },
     "execution_count": 3,
     "metadata": {},
     "output_type": "execute_result"
    }
   ],
   "source": [
    "pd.DataFrame({'dtypes':df.dtypes,'null_count':df.isnull().sum(),\n",
    "              'unique_values':df.nunique(),\n",
    "             'percent_of_null_values':df.isnull().mean()})"
   ]
  },
  {
   "cell_type": "code",
   "execution_count": 4,
   "id": "02492f37",
   "metadata": {},
   "outputs": [],
   "source": [
    "df.dropna(inplace=True)"
   ]
  },
  {
   "cell_type": "code",
   "execution_count": 5,
   "id": "83788ea5",
   "metadata": {},
   "outputs": [
    {
     "data": {
      "text/plain": [
       "(10657, 9)"
      ]
     },
     "execution_count": 5,
     "metadata": {},
     "output_type": "execute_result"
    }
   ],
   "source": [
    "df.shape"
   ]
  },
  {
   "cell_type": "markdown",
   "id": "4c1b27cc",
   "metadata": {},
   "source": [
    "### Using a model from hugging face to get the predictions for 'normal text' and 'lemma text' separately"
   ]
  },
  {
   "cell_type": "markdown",
   "id": "6ada81f9",
   "metadata": {},
   "source": [
    "##### Model_name:\"irlab-udc/MetaHateBERT\""
   ]
  },
  {
   "cell_type": "code",
   "execution_count": 6,
   "id": "1aa49ece",
   "metadata": {
    "scrolled": true
   },
   "outputs": [
    {
     "name": "stderr",
     "output_type": "stream",
     "text": [
      "C:\\Users\\Kavin\\anaconda3\\envs\\nlp_hatespeech\\lib\\site-packages\\tqdm\\auto.py:21: TqdmWarning: IProgress not found. Please update jupyter and ipywidgets. See https://ipywidgets.readthedocs.io/en/stable/user_install.html\n",
      "  from .autonotebook import tqdm as notebook_tqdm\n",
      "C:\\Users\\Kavin\\anaconda3\\envs\\nlp_hatespeech\\lib\\site-packages\\huggingface_hub\\file_download.py:1132: FutureWarning: `resume_download` is deprecated and will be removed in version 1.0.0. Downloads always resume when possible. If you want to force a new download, use `force_download=True`.\n",
      "  warnings.warn(\n"
     ]
    }
   ],
   "source": [
    "# Use a pipeline as a high-level helper\n",
    "from transformers import pipeline\n",
    "\n",
    "pipe_1 = pipeline(\"text-classification\", model=\"irlab-udc/MetaHateBERT\")"
   ]
  },
  {
   "cell_type": "code",
   "execution_count": 7,
   "id": "f041f58a",
   "metadata": {},
   "outputs": [],
   "source": [
    "predicted_label_normal=[]\n",
    "predicted_score_normal=[]\n",
    "\n",
    "def predictions_model_normal():\n",
    "\n",
    "    for sent in df['corrected_text']:\n",
    "        \n",
    "            #Passing the 'lemma_string' into the model and making predictions\n",
    "            label_and_score=pipe_1(sent)\n",
    "\n",
    "            predicted_label_normal.append(label_and_score[0]['label'])\n",
    "            predicted_score_normal.append(label_and_score[0]['score'])\n",
    "\n",
    "            if len(predicted_label_normal)%1000==0:\n",
    "                print(f'Predictions made for {len(predicted_label_normal)} items')"
   ]
  },
  {
   "cell_type": "code",
   "execution_count": 8,
   "id": "219bd0f9",
   "metadata": {},
   "outputs": [
    {
     "name": "stdout",
     "output_type": "stream",
     "text": [
      "Predictions made for 1000 items\n",
      "Predictions made for 2000 items\n",
      "Predictions made for 3000 items\n",
      "Predictions made for 4000 items\n",
      "Predictions made for 5000 items\n",
      "Predictions made for 6000 items\n",
      "Predictions made for 7000 items\n",
      "Predictions made for 8000 items\n",
      "Predictions made for 9000 items\n",
      "Predictions made for 10000 items\n"
     ]
    },
    {
     "data": {
      "text/html": [
       "<div>\n",
       "<style scoped>\n",
       "    .dataframe tbody tr th:only-of-type {\n",
       "        vertical-align: middle;\n",
       "    }\n",
       "\n",
       "    .dataframe tbody tr th {\n",
       "        vertical-align: top;\n",
       "    }\n",
       "\n",
       "    .dataframe thead th {\n",
       "        text-align: right;\n",
       "    }\n",
       "</style>\n",
       "<table border=\"1\" class=\"dataframe\">\n",
       "  <thead>\n",
       "    <tr style=\"text-align: right;\">\n",
       "      <th></th>\n",
       "      <th>text</th>\n",
       "      <th>corrected_text</th>\n",
       "      <th>label</th>\n",
       "      <th>predicted_label_normal</th>\n",
       "      <th>predicted_score_normal</th>\n",
       "    </tr>\n",
       "  </thead>\n",
       "  <tbody>\n",
       "    <tr>\n",
       "      <th>0</th>\n",
       "      <td>As of March 13th , 2014 , the booklet had been...</td>\n",
       "      <td>as of march 13th  2014  the booklet had been d...</td>\n",
       "      <td>noHate</td>\n",
       "      <td>no hate</td>\n",
       "      <td>0.995001</td>\n",
       "    </tr>\n",
       "    <tr>\n",
       "      <th>1</th>\n",
       "      <td>In order to help increase the booklets downloa...</td>\n",
       "      <td>in order to help increase the booklets downloa...</td>\n",
       "      <td>noHate</td>\n",
       "      <td>no hate</td>\n",
       "      <td>0.994424</td>\n",
       "    </tr>\n",
       "    <tr>\n",
       "      <th>2</th>\n",
       "      <td>( Simply copy and paste the following text int...</td>\n",
       "      <td>simply copy and paste the following text into ...</td>\n",
       "      <td>noHate</td>\n",
       "      <td>no hate</td>\n",
       "      <td>0.994773</td>\n",
       "    </tr>\n",
       "    <tr>\n",
       "      <th>3</th>\n",
       "      <td>Click below for a FREE download of a colorfull...</td>\n",
       "      <td>click below for a free download of a colorfull...</td>\n",
       "      <td>hate</td>\n",
       "      <td>hate</td>\n",
       "      <td>0.838828</td>\n",
       "    </tr>\n",
       "    <tr>\n",
       "      <th>4</th>\n",
       "      <td>Click on the `` DOWNLOAD ( 7.42 MB ) '' green ...</td>\n",
       "      <td>click on the  download  742 mb   green banner ...</td>\n",
       "      <td>noHate</td>\n",
       "      <td>no hate</td>\n",
       "      <td>0.992988</td>\n",
       "    </tr>\n",
       "  </tbody>\n",
       "</table>\n",
       "</div>"
      ],
      "text/plain": [
       "                                                text  \\\n",
       "0  As of March 13th , 2014 , the booklet had been...   \n",
       "1  In order to help increase the booklets downloa...   \n",
       "2  ( Simply copy and paste the following text int...   \n",
       "3  Click below for a FREE download of a colorfull...   \n",
       "4  Click on the `` DOWNLOAD ( 7.42 MB ) '' green ...   \n",
       "\n",
       "                                      corrected_text   label  \\\n",
       "0  as of march 13th  2014  the booklet had been d...  noHate   \n",
       "1  in order to help increase the booklets downloa...  noHate   \n",
       "2  simply copy and paste the following text into ...  noHate   \n",
       "3  click below for a free download of a colorfull...    hate   \n",
       "4  click on the  download  742 mb   green banner ...  noHate   \n",
       "\n",
       "  predicted_label_normal  predicted_score_normal  \n",
       "0                no hate                0.995001  \n",
       "1                no hate                0.994424  \n",
       "2                no hate                0.994773  \n",
       "3                   hate                0.838828  \n",
       "4                no hate                0.992988  "
      ]
     },
     "execution_count": 8,
     "metadata": {},
     "output_type": "execute_result"
    }
   ],
   "source": [
    "predictions_model_normal()\n",
    "\n",
    "df['predicted_label_normal']=predicted_label_normal\n",
    "df['predicted_score_normal']=predicted_score_normal\n",
    "df[['text','corrected_text','label','predicted_label_normal','predicted_score_normal']].head()"
   ]
  },
  {
   "cell_type": "code",
   "execution_count": 9,
   "id": "930342e1",
   "metadata": {},
   "outputs": [],
   "source": [
    "predicted_label_lemma=[]\n",
    "predicted_score_lemma=[]\n",
    "\n",
    "def predictions_model_lemma():\n",
    "    \n",
    "    for sent in df['lemma_text']:\n",
    "\n",
    "            #Passing the 'lemma_string' into the model and making predictions\n",
    "            label_and_score=pipe_1(sent)\n",
    "\n",
    "            predicted_label_lemma.append(label_and_score[0]['label'])\n",
    "            predicted_score_lemma.append(label_and_score[0]['score'])\n",
    "\n",
    "            if len(predicted_label_lemma)%1000==0:\n",
    "                print(f'Predictions made for {len(predicted_label_lemma)} items')"
   ]
  },
  {
   "cell_type": "code",
   "execution_count": 10,
   "id": "f177597b",
   "metadata": {},
   "outputs": [
    {
     "name": "stdout",
     "output_type": "stream",
     "text": [
      "Predictions made for 1000 items\n",
      "Predictions made for 2000 items\n",
      "Predictions made for 3000 items\n",
      "Predictions made for 4000 items\n",
      "Predictions made for 5000 items\n",
      "Predictions made for 6000 items\n",
      "Predictions made for 7000 items\n",
      "Predictions made for 8000 items\n",
      "Predictions made for 9000 items\n",
      "Predictions made for 10000 items\n"
     ]
    },
    {
     "data": {
      "text/html": [
       "<div>\n",
       "<style scoped>\n",
       "    .dataframe tbody tr th:only-of-type {\n",
       "        vertical-align: middle;\n",
       "    }\n",
       "\n",
       "    .dataframe tbody tr th {\n",
       "        vertical-align: top;\n",
       "    }\n",
       "\n",
       "    .dataframe thead th {\n",
       "        text-align: right;\n",
       "    }\n",
       "</style>\n",
       "<table border=\"1\" class=\"dataframe\">\n",
       "  <thead>\n",
       "    <tr style=\"text-align: right;\">\n",
       "      <th></th>\n",
       "      <th>text</th>\n",
       "      <th>lemma_text</th>\n",
       "      <th>label</th>\n",
       "      <th>predicted_label_lemma</th>\n",
       "      <th>predicted_score_lemma</th>\n",
       "    </tr>\n",
       "  </thead>\n",
       "  <tbody>\n",
       "    <tr>\n",
       "      <th>0</th>\n",
       "      <td>As of March 13th , 2014 , the booklet had been...</td>\n",
       "      <td>as of march 13th   2014   the booklet have be ...</td>\n",
       "      <td>noHate</td>\n",
       "      <td>no hate</td>\n",
       "      <td>0.994972</td>\n",
       "    </tr>\n",
       "    <tr>\n",
       "      <th>1</th>\n",
       "      <td>In order to help increase the booklets downloa...</td>\n",
       "      <td>in order to help increase the booklet download...</td>\n",
       "      <td>noHate</td>\n",
       "      <td>no hate</td>\n",
       "      <td>0.994310</td>\n",
       "    </tr>\n",
       "    <tr>\n",
       "      <th>2</th>\n",
       "      <td>( Simply copy and paste the following text int...</td>\n",
       "      <td>simply copy and paste the follow text into you...</td>\n",
       "      <td>noHate</td>\n",
       "      <td>no hate</td>\n",
       "      <td>0.994931</td>\n",
       "    </tr>\n",
       "    <tr>\n",
       "      <th>3</th>\n",
       "      <td>Click below for a FREE download of a colorfull...</td>\n",
       "      <td>click below for a free download of a colorfull...</td>\n",
       "      <td>hate</td>\n",
       "      <td>hate</td>\n",
       "      <td>0.822070</td>\n",
       "    </tr>\n",
       "    <tr>\n",
       "      <th>4</th>\n",
       "      <td>Click on the `` DOWNLOAD ( 7.42 MB ) '' green ...</td>\n",
       "      <td>click on the   download   742 mb    green bann...</td>\n",
       "      <td>noHate</td>\n",
       "      <td>no hate</td>\n",
       "      <td>0.992988</td>\n",
       "    </tr>\n",
       "  </tbody>\n",
       "</table>\n",
       "</div>"
      ],
      "text/plain": [
       "                                                text  \\\n",
       "0  As of March 13th , 2014 , the booklet had been...   \n",
       "1  In order to help increase the booklets downloa...   \n",
       "2  ( Simply copy and paste the following text int...   \n",
       "3  Click below for a FREE download of a colorfull...   \n",
       "4  Click on the `` DOWNLOAD ( 7.42 MB ) '' green ...   \n",
       "\n",
       "                                          lemma_text   label  \\\n",
       "0  as of march 13th   2014   the booklet have be ...  noHate   \n",
       "1  in order to help increase the booklet download...  noHate   \n",
       "2  simply copy and paste the follow text into you...  noHate   \n",
       "3  click below for a free download of a colorfull...    hate   \n",
       "4  click on the   download   742 mb    green bann...  noHate   \n",
       "\n",
       "  predicted_label_lemma  predicted_score_lemma  \n",
       "0               no hate               0.994972  \n",
       "1               no hate               0.994310  \n",
       "2               no hate               0.994931  \n",
       "3                  hate               0.822070  \n",
       "4               no hate               0.992988  "
      ]
     },
     "execution_count": 10,
     "metadata": {},
     "output_type": "execute_result"
    }
   ],
   "source": [
    "predictions_model_lemma()\n",
    "\n",
    "df['predicted_label_lemma']=predicted_label_lemma\n",
    "df['predicted_score_lemma']=predicted_score_lemma\n",
    "df[['text','lemma_text','label','predicted_label_lemma','predicted_score_lemma']].head()"
   ]
  },
  {
   "cell_type": "code",
   "execution_count": 11,
   "id": "9122e47b",
   "metadata": {},
   "outputs": [],
   "source": [
    "import numpy as np\n",
    "from sklearn import metrics\n",
    "from sklearn.metrics import accuracy_score, precision_score, recall_score, f1_score\n",
    "from sklearn.metrics import classification_report\n",
    "import matplotlib.pyplot as plt\n",
    "import seaborn as sns\n",
    "\n",
    "def calculate_metrics(predictions_labels):\n",
    "    \n",
    "    # define confusion matrix\n",
    "    confusion_matrix = metrics.confusion_matrix(ground_truth, predictions_labels)\n",
    "    print(confusion_matrix)\n",
    "    print('...........................................................................\\n')\n",
    "    # define and print matrix with labels\n",
    "    sns.heatmap(confusion_matrix,\n",
    "                annot=True,\n",
    "                fmt='g',\n",
    "                xticklabels=['Not Hate','Hate'],\n",
    "                yticklabels=['Not Hate','Hate'])\n",
    "\n",
    "    # display matrix\n",
    "    plt.ylabel('Actual',fontsize=12)\n",
    "    plt.xlabel('Prediction',fontsize=12)\n",
    "    plt.show()\n",
    "    print('...........................................................................\\n')\n",
    "    # create and print classification report\n",
    "    report = classification_report(ground_truth, predictions_labels)\n",
    "    print(report)"
   ]
  },
  {
   "cell_type": "code",
   "execution_count": 12,
   "id": "1cbc129f",
   "metadata": {},
   "outputs": [],
   "source": [
    "#True labels\n",
    "ground_truth=list(df['label'].map({'noHate':0,'hate':1}))\n",
    "\n",
    "#normal text predictions\n",
    "predictions_normal=list(df['predicted_label_normal'].map({'no hate':0,'hate':1}))"
   ]
  },
  {
   "cell_type": "code",
   "execution_count": 13,
   "id": "ff2feeb0",
   "metadata": {},
   "outputs": [
    {
     "name": "stdout",
     "output_type": "stream",
     "text": [
      "[[8390 1071]\n",
      " [  93 1103]]\n",
      "...........................................................................\n",
      "\n"
     ]
    },
    {
     "data": {
      "image/png": "[encoded data removed]",
      "text/plain": [
       "<Figure size 640x480 with 2 Axes>"
      ]
     },
     "metadata": {},
     "output_type": "display_data"
    },
    {
     "name": "stdout",
     "output_type": "stream",
     "text": [
      "...........................................................................\n",
      "\n",
      "              precision    recall  f1-score   support\n",
      "\n",
      "           0       0.99      0.89      0.94      9461\n",
      "           1       0.51      0.92      0.65      1196\n",
      "\n",
      "    accuracy                           0.89     10657\n",
      "   macro avg       0.75      0.90      0.79     10657\n",
      "weighted avg       0.93      0.89      0.90     10657\n",
      "\n"
     ]
    }
   ],
   "source": [
    "calculate_metrics(predictions_normal)"
   ]
  },
  {
   "cell_type": "code",
   "execution_count": 14,
   "id": "7f5f1b05",
   "metadata": {},
   "outputs": [],
   "source": [
    "#True labels\n",
    "ground_truth=list(df['label'].map({'noHate':0,'hate':1}))\n",
    "\n",
    "#lemma text predictions\n",
    "predictions_lemma=list(df['predicted_label_lemma'].map({'no hate':0,'hate':1}))"
   ]
  },
  {
   "cell_type": "code",
   "execution_count": 15,
   "id": "63a196fe",
   "metadata": {},
   "outputs": [
    {
     "name": "stdout",
     "output_type": "stream",
     "text": [
      "[[8247 1214]\n",
      " [ 161 1035]]\n",
      "...........................................................................\n",
      "\n"
     ]
    },
    {
     "data": {
      "image/png": "[encoded data removed]",
      "text/plain": [
       "<Figure size 640x480 with 2 Axes>"
      ]
     },
     "metadata": {},
     "output_type": "display_data"
    },
    {
     "name": "stdout",
     "output_type": "stream",
     "text": [
      "...........................................................................\n",
      "\n",
      "              precision    recall  f1-score   support\n",
      "\n",
      "           0       0.98      0.87      0.92      9461\n",
      "           1       0.46      0.87      0.60      1196\n",
      "\n",
      "    accuracy                           0.87     10657\n",
      "   macro avg       0.72      0.87      0.76     10657\n",
      "weighted avg       0.92      0.87      0.89     10657\n",
      "\n"
     ]
    }
   ],
   "source": [
    "calculate_metrics(predictions_lemma)"
   ]
  },
  {
   "cell_type": "markdown",
   "id": "aee70830",
   "metadata": {},
   "source": [
    "### False positive analysis (actual-'hate', prediction-'nohate')"
   ]
  },
  {
   "cell_type": "code",
   "execution_count": 16,
   "id": "223a0deb",
   "metadata": {},
   "outputs": [
    {
     "data": {
      "text/plain": [
       "Index(['Unnamed: 0', 'file_id', 'user_id', 'subforum_id', 'num_contexts',\n",
       "       'label', 'text', 'corrected_text', 'lemma_text',\n",
       "       'predicted_label_normal', 'predicted_score_normal',\n",
       "       'predicted_label_lemma', 'predicted_score_lemma'],\n",
       "      dtype='object')"
      ]
     },
     "execution_count": 16,
     "metadata": {},
     "output_type": "execute_result"
    }
   ],
   "source": [
    "df.columns"
   ]
  },
  {
   "cell_type": "code",
   "execution_count": 17,
   "id": "a32f0abd",
   "metadata": {},
   "outputs": [
    {
     "name": "stdout",
     "output_type": "stream",
     "text": [
      "93\n"
     ]
    }
   ],
   "source": [
    "df_fp=df.loc[(df['label'] =='hate') & (df['predicted_label_normal'] =='no hate')][['corrected_text','label','predicted_label_normal','predicted_score_normal']]\n",
    "(print(len(df_fp)))"
   ]
  },
  {
   "cell_type": "code",
   "execution_count": 18,
   "id": "aa50ba41",
   "metadata": {},
   "outputs": [
    {
     "data": {
      "text/html": [
       "<div>\n",
       "<style scoped>\n",
       "    .dataframe tbody tr th:only-of-type {\n",
       "        vertical-align: middle;\n",
       "    }\n",
       "\n",
       "    .dataframe tbody tr th {\n",
       "        vertical-align: top;\n",
       "    }\n",
       "\n",
       "    .dataframe thead th {\n",
       "        text-align: right;\n",
       "    }\n",
       "</style>\n",
       "<table border=\"1\" class=\"dataframe\">\n",
       "  <thead>\n",
       "    <tr style=\"text-align: right;\">\n",
       "      <th></th>\n",
       "      <th>corrected_text</th>\n",
       "      <th>label</th>\n",
       "      <th>predicted_label_normal</th>\n",
       "      <th>predicted_score_normal</th>\n",
       "    </tr>\n",
       "  </thead>\n",
       "  <tbody>\n",
       "    <tr>\n",
       "      <th>874</th>\n",
       "      <td>i m surprised they re not holding the gun back...</td>\n",
       "      <td>hate</td>\n",
       "      <td>no hate</td>\n",
       "      <td>0.779350</td>\n",
       "    </tr>\n",
       "    <tr>\n",
       "      <th>1016</th>\n",
       "      <td>they always think they are somehow exempt from...</td>\n",
       "      <td>hate</td>\n",
       "      <td>no hate</td>\n",
       "      <td>0.857279</td>\n",
       "    </tr>\n",
       "    <tr>\n",
       "      <th>1084</th>\n",
       "      <td>i see so many bmwf around my city its not even...</td>\n",
       "      <td>hate</td>\n",
       "      <td>no hate</td>\n",
       "      <td>0.850975</td>\n",
       "    </tr>\n",
       "    <tr>\n",
       "      <th>1123</th>\n",
       "      <td>they must have trapped her somehow  and sent h...</td>\n",
       "      <td>hate</td>\n",
       "      <td>no hate</td>\n",
       "      <td>0.674913</td>\n",
       "    </tr>\n",
       "    <tr>\n",
       "      <th>1166</th>\n",
       "      <td>thank you for your kind words  hope to meet yo...</td>\n",
       "      <td>hate</td>\n",
       "      <td>no hate</td>\n",
       "      <td>0.944548</td>\n",
       "    </tr>\n",
       "    <tr>\n",
       "      <th>1206</th>\n",
       "      <td>perhaps i should walk back into my hs when it ...</td>\n",
       "      <td>hate</td>\n",
       "      <td>no hate</td>\n",
       "      <td>0.935731</td>\n",
       "    </tr>\n",
       "    <tr>\n",
       "      <th>1237</th>\n",
       "      <td>he should be flagged and reported skyyjohn s c...</td>\n",
       "      <td>hate</td>\n",
       "      <td>no hate</td>\n",
       "      <td>0.714348</td>\n",
       "    </tr>\n",
       "    <tr>\n",
       "      <th>1392</th>\n",
       "      <td>may they be put away for good</td>\n",
       "      <td>hate</td>\n",
       "      <td>no hate</td>\n",
       "      <td>0.640697</td>\n",
       "    </tr>\n",
       "    <tr>\n",
       "      <th>1430</th>\n",
       "      <td>back to where ya came from</td>\n",
       "      <td>hate</td>\n",
       "      <td>no hate</td>\n",
       "      <td>0.640518</td>\n",
       "    </tr>\n",
       "  </tbody>\n",
       "</table>\n",
       "</div>"
      ],
      "text/plain": [
       "                                         corrected_text label  \\\n",
       "874   i m surprised they re not holding the gun back...  hate   \n",
       "1016  they always think they are somehow exempt from...  hate   \n",
       "1084  i see so many bmwf around my city its not even...  hate   \n",
       "1123  they must have trapped her somehow  and sent h...  hate   \n",
       "1166  thank you for your kind words  hope to meet yo...  hate   \n",
       "1206  perhaps i should walk back into my hs when it ...  hate   \n",
       "1237  he should be flagged and reported skyyjohn s c...  hate   \n",
       "1392                      may they be put away for good  hate   \n",
       "1430                         back to where ya came from  hate   \n",
       "\n",
       "     predicted_label_normal  predicted_score_normal  \n",
       "874                 no hate                0.779350  \n",
       "1016                no hate                0.857279  \n",
       "1084                no hate                0.850975  \n",
       "1123                no hate                0.674913  \n",
       "1166                no hate                0.944548  \n",
       "1206                no hate                0.935731  \n",
       "1237                no hate                0.714348  \n",
       "1392                no hate                0.640697  \n",
       "1430                no hate                0.640518  "
      ]
     },
     "execution_count": 18,
     "metadata": {},
     "output_type": "execute_result"
    }
   ],
   "source": [
    "df_fp[11:20]"
   ]
  },
  {
   "cell_type": "code",
   "execution_count": 19,
   "id": "897524fc",
   "metadata": {},
   "outputs": [
    {
     "data": {
      "text/plain": [
       "['i m surprised they re not holding the gun back to front',\n",
       " 'they always think they are somehow exempt from the rules',\n",
       " 'i see so many bmwf around my city its not even funny',\n",
       " 'they must have trapped her somehow  and sent her thru the network to israel',\n",
       " 'thank you for your kind words  hope to meet you in the new white world one day soon',\n",
       " 'perhaps i should walk back into my hs when it starts monday and get on the pa system and say i want to tie all       s to the back of my car and drag them across the ground till they die  and then say i m joking',\n",
       " 'he should be flagged and reported skyyjohn s channel  youtube establishedmencom sent me on a blind date',\n",
       " 'may they be put away for good',\n",
       " 'back to where ya came from']"
      ]
     },
     "execution_count": 19,
     "metadata": {},
     "output_type": "execute_result"
    }
   ],
   "source": [
    "list(df_fp['corrected_text'][11:20])"
   ]
  },
  {
   "cell_type": "markdown",
   "id": "d94616f9",
   "metadata": {},
   "source": [
    "### False negative analysis (actual-'nohate', prediction-'hate')"
   ]
  },
  {
   "cell_type": "code",
   "execution_count": 20,
   "id": "e5cc7376",
   "metadata": {},
   "outputs": [
    {
     "name": "stdout",
     "output_type": "stream",
     "text": [
      "1071\n"
     ]
    }
   ],
   "source": [
    "df_fn=df.loc[(df['label'] =='noHate') & (df['predicted_label_normal'] =='hate')][['corrected_text','label','predicted_label_normal','predicted_score_normal']]\n",
    "(print(len(df_fn)))"
   ]
  },
  {
   "cell_type": "code",
   "execution_count": 21,
   "id": "a3806232",
   "metadata": {},
   "outputs": [
    {
     "data": {
      "text/html": [
       "<div>\n",
       "<style scoped>\n",
       "    .dataframe tbody tr th:only-of-type {\n",
       "        vertical-align: middle;\n",
       "    }\n",
       "\n",
       "    .dataframe tbody tr th {\n",
       "        vertical-align: top;\n",
       "    }\n",
       "\n",
       "    .dataframe thead th {\n",
       "        text-align: right;\n",
       "    }\n",
       "</style>\n",
       "<table border=\"1\" class=\"dataframe\">\n",
       "  <thead>\n",
       "    <tr style=\"text-align: right;\">\n",
       "      <th></th>\n",
       "      <th>corrected_text</th>\n",
       "      <th>label</th>\n",
       "      <th>predicted_label_normal</th>\n",
       "      <th>predicted_score_normal</th>\n",
       "    </tr>\n",
       "  </thead>\n",
       "  <tbody>\n",
       "    <tr>\n",
       "      <th>25</th>\n",
       "      <td>no wonder young people ca nt get jobs</td>\n",
       "      <td>noHate</td>\n",
       "      <td>hate</td>\n",
       "      <td>0.912817</td>\n",
       "    </tr>\n",
       "    <tr>\n",
       "      <th>32</th>\n",
       "      <td>when the girl starts talking the guy in the mi...</td>\n",
       "      <td>noHate</td>\n",
       "      <td>hate</td>\n",
       "      <td>0.722952</td>\n",
       "    </tr>\n",
       "    <tr>\n",
       "      <th>52</th>\n",
       "      <td>comwatch  v  6ok6ks7bsoy for a free informativ...</td>\n",
       "      <td>noHate</td>\n",
       "      <td>hate</td>\n",
       "      <td>0.587990</td>\n",
       "    </tr>\n",
       "    <tr>\n",
       "      <th>64</th>\n",
       "      <td>does this not show how stupid these folks can be</td>\n",
       "      <td>noHate</td>\n",
       "      <td>hate</td>\n",
       "      <td>0.832494</td>\n",
       "    </tr>\n",
       "    <tr>\n",
       "      <th>74</th>\n",
       "      <td>instead we are left to shed a tear for the bla...</td>\n",
       "      <td>noHate</td>\n",
       "      <td>hate</td>\n",
       "      <td>0.676837</td>\n",
       "    </tr>\n",
       "    <tr>\n",
       "      <th>77</th>\n",
       "      <td>there are white folks that require a little of...</td>\n",
       "      <td>noHate</td>\n",
       "      <td>hate</td>\n",
       "      <td>0.768137</td>\n",
       "    </tr>\n",
       "    <tr>\n",
       "      <th>84</th>\n",
       "      <td>hundreds of people  but no blacks</td>\n",
       "      <td>noHate</td>\n",
       "      <td>hate</td>\n",
       "      <td>0.858377</td>\n",
       "    </tr>\n",
       "    <tr>\n",
       "      <th>85</th>\n",
       "      <td>i also attended a mastersphd graduation ceremo...</td>\n",
       "      <td>noHate</td>\n",
       "      <td>hate</td>\n",
       "      <td>0.783837</td>\n",
       "    </tr>\n",
       "    <tr>\n",
       "      <th>87</th>\n",
       "      <td>unfortunately  there are some poor white famil...</td>\n",
       "      <td>noHate</td>\n",
       "      <td>hate</td>\n",
       "      <td>0.861752</td>\n",
       "    </tr>\n",
       "    <tr>\n",
       "      <th>118</th>\n",
       "      <td>the reason large white families were encourage...</td>\n",
       "      <td>noHate</td>\n",
       "      <td>hate</td>\n",
       "      <td>0.544932</td>\n",
       "    </tr>\n",
       "  </tbody>\n",
       "</table>\n",
       "</div>"
      ],
      "text/plain": [
       "                                        corrected_text   label  \\\n",
       "25               no wonder young people ca nt get jobs  noHate   \n",
       "32   when the girl starts talking the guy in the mi...  noHate   \n",
       "52   comwatch  v  6ok6ks7bsoy for a free informativ...  noHate   \n",
       "64    does this not show how stupid these folks can be  noHate   \n",
       "74   instead we are left to shed a tear for the bla...  noHate   \n",
       "77   there are white folks that require a little of...  noHate   \n",
       "84                   hundreds of people  but no blacks  noHate   \n",
       "85   i also attended a mastersphd graduation ceremo...  noHate   \n",
       "87   unfortunately  there are some poor white famil...  noHate   \n",
       "118  the reason large white families were encourage...  noHate   \n",
       "\n",
       "    predicted_label_normal  predicted_score_normal  \n",
       "25                    hate                0.912817  \n",
       "32                    hate                0.722952  \n",
       "52                    hate                0.587990  \n",
       "64                    hate                0.832494  \n",
       "74                    hate                0.676837  \n",
       "77                    hate                0.768137  \n",
       "84                    hate                0.858377  \n",
       "85                    hate                0.783837  \n",
       "87                    hate                0.861752  \n",
       "118                   hate                0.544932  "
      ]
     },
     "execution_count": 21,
     "metadata": {},
     "output_type": "execute_result"
    }
   ],
   "source": [
    "df_fn.head(10)"
   ]
  },
  {
   "cell_type": "code",
   "execution_count": 22,
   "id": "d97a3ee6",
   "metadata": {},
   "outputs": [
    {
     "data": {
      "text/plain": [
       "['no wonder young people ca nt get jobs',\n",
       " 'when the girl starts talking the guy in the middles lips start moving',\n",
       " 'comwatch  v  6ok6ks7bsoy for a free informative booklet  video on the zionistengineered intentional destruction of white people go to  youtube',\n",
       " 'does this not show how stupid these folks can be',\n",
       " 'instead we are left to shed a tear for the black kids killed in a church bombing 40 years ago',\n",
       " 'there are white folks that require a little of our time',\n",
       " 'hundreds of people  but no blacks',\n",
       " 'i also attended a mastersphd graduation ceremony at a major state university a few years ago  none of the cs degrees were awarded to blacks  a couple computer degrees went to blacks  but they were in it with a focus on internet marketingwebcommerce  so where are all these black computer geniuses hiding',\n",
       " 'unfortunately  there are some poor white families where both parents work',\n",
       " 'the reason large white families were encouraged those days was to build up the population of white germans  which were ravaged by the jewish attacks at them during ww1 and in hyperinflation 1920 s']"
      ]
     },
     "execution_count": 22,
     "metadata": {},
     "output_type": "execute_result"
    }
   ],
   "source": [
    "list(df_fn['corrected_text'][:10])"
   ]
  },
  {
   "cell_type": "code",
   "execution_count": null,
   "id": "4c55c79d",
   "metadata": {},
   "outputs": [],
   "source": []
  }
 ],
 "metadata": {
  "kernelspec": {
   "display_name": "nlp_hatespeech",
   "language": "python",
   "name": "nlp_hatespeech"
  },
  "language_info": {
   "codemirror_mode": {
    "name": "ipython",
    "version": 3
   },
   "file_extension": ".py",
   "mimetype": "text/x-python",
   "name": "python",
   "nbconvert_exporter": "python",
   "pygments_lexer": "ipython3",
   "version": "3.9.18"
  }
 },
 "nbformat": 4,
 "nbformat_minor": 5
}
